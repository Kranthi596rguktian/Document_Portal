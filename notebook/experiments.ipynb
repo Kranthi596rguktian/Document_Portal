{
 "cells": [
  {
   "cell_type": "code",
   "execution_count": 1,
   "id": "5602aa88",
   "metadata": {},
   "outputs": [
    {
     "name": "stdout",
     "output_type": "stream",
     "text": [
      "all okay\n"
     ]
    }
   ],
   "source": [
    "print(\"all okay\")"
   ]
  },
  {
   "cell_type": "code",
   "execution_count": 2,
   "id": "4a5140be",
   "metadata": {},
   "outputs": [],
   "source": [
    "from langchain_groq import ChatGroq"
   ]
  },
  {
   "cell_type": "code",
   "execution_count": 3,
   "id": "52654b0d",
   "metadata": {},
   "outputs": [
    {
     "data": {
      "text/plain": [
       "True"
      ]
     },
     "execution_count": 3,
     "metadata": {},
     "output_type": "execute_result"
    }
   ],
   "source": [
    "from dotenv import load_dotenv\n",
    "load_dotenv()"
   ]
  },
  {
   "cell_type": "code",
   "execution_count": 4,
   "id": "0e97b80c",
   "metadata": {},
   "outputs": [],
   "source": [
    "model = ChatGroq(model='qwen/qwen3-32b')"
   ]
  },
  {
   "cell_type": "code",
   "execution_count": 5,
   "id": "e4336e95",
   "metadata": {},
   "outputs": [
    {
     "name": "stdout",
     "output_type": "stream",
     "text": [
      "Response: <think>\n",
      "Okay, so the user is asking, \"What is the capital of France?\" Hmm, I need to make sure I get this right. France is a country in Europe, right? I remember from school that the capital is Paris. But wait, maybe I should double-check. Sometimes countries have cities with similar names, but France is pretty straightforward.\n",
      "\n",
      "Let me think. Paris is known for the Eiffel Tower and the Louvre, and it's a major city. Yeah, I'm pretty sure it's Paris. But maybe there's a trick here? Like, some people might confuse it with Lyon or Marseille, but those are other cities in France. No, the capital is definitely Paris. \n",
      "\n",
      "Wait, has there ever been a time when the capital wasn't Paris? I don't think so. Even during different historical periods, Paris has remained the capital. Unless there was some temporary move, but that's not common knowledge. So, the answer should be Paris. \n",
      "\n",
      "I should also consider if the user is expecting any other information, like the population or landmarks, but the question is straightforward. Just the capital. So, the answer is Paris. No need to complicate it. Let me confirm once more. Quick search in my mind: France's capital is Paris. Yep, that's correct. Alright, I can confidently say Paris is the answer.\n",
      "</think>\n",
      "\n",
      "The capital of France is **Paris**. It is a major cultural, economic, and historical center, renowned for landmarks like the Eiffel Tower, the Louvre Museum, and the Notre-Dame Cathedral. Let me know if you'd like additional details!\n"
     ]
    }
   ],
   "source": [
    "query = \"What is the capital of France?\"\n",
    "response = model.invoke(query).content\n",
    "\n",
    "print(f\"Response: {response}\")\n"
   ]
  },
  {
   "cell_type": "code",
   "execution_count": 6,
   "id": "37ccdf2c",
   "metadata": {},
   "outputs": [],
   "source": [
    "from langchain_google_genai import GoogleGenerativeAIEmbeddings"
   ]
  },
  {
   "cell_type": "code",
   "execution_count": 8,
   "id": "7bb2c7a9",
   "metadata": {},
   "outputs": [],
   "source": [
    "embedding_model = GoogleGenerativeAIEmbeddings(model='models/embedding-001',)"
   ]
  },
  {
   "cell_type": "code",
   "execution_count": 10,
   "id": "5b0dd4a9",
   "metadata": {},
   "outputs": [
    {
     "data": {
      "text/plain": [
       "768"
      ]
     },
     "execution_count": 10,
     "metadata": {},
     "output_type": "execute_result"
    }
   ],
   "source": [
    "emd = embedding_model.embed_query(\"What is the capital of France?\")\n",
    "len(emd)"
   ]
  }
 ],
 "metadata": {
  "kernelspec": {
   "display_name": "env",
   "language": "python",
   "name": "python3"
  },
  "language_info": {
   "codemirror_mode": {
    "name": "ipython",
    "version": 3
   },
   "file_extension": ".py",
   "mimetype": "text/x-python",
   "name": "python",
   "nbconvert_exporter": "python",
   "pygments_lexer": "ipython3",
   "version": "3.12.1"
  }
 },
 "nbformat": 4,
 "nbformat_minor": 5
}
